{
 "cells": [
  {
   "cell_type": "code",
   "execution_count": 16,
   "metadata": {},
   "outputs": [],
   "source": [
    "#!/usr/bin/env python\n",
    "\"\"\"\n",
    "Data Deduplication, Matching, and Analysis using CSV files\n",
    "-----------------------------------------------------------\n",
    "This script performs the following tasks:\n",
    "1. Loads dataset1.csv and dataset2.csv.\n",
    "2. Conducts exploratory data analysis (EDA).\n",
    "3. Preprocesses the data (cleaning, standardizing, feature engineering).\n",
    "4. Matches records using fuzzy matching (RapidFuzz).\n",
    "5. Performs basic analyses (e.g., gender distribution, occupation counts).\n",
    "6. Exports the cleaned datasets and matched records for downstream use.\n",
    "\"\"\"\n",
    "\n",
    "import pandas as pd\n",
    "import numpy as np\n",
    "import matplotlib.pyplot as plt\n",
    "import seaborn as sns\n",
    "from rapidfuzz import process, fuzz  # For fuzzy matching\n"
   ]
  },
  {
   "cell_type": "markdown",
   "metadata": {},
   "source": [
    "The dataset contains a very large number of causing the code to take 2 hours to run. The code works correctly, but the dataset is extensive."
   ]
  },
  {
   "cell_type": "code",
   "execution_count": 17,
   "metadata": {},
   "outputs": [],
   "source": [
    "# Part 1: Load the CSV files\n",
    "\n",
    "# Make sure \"dataset1.csv\" and \"dataset2.csv\" are in your working directory.\n",
    "df1 = pd.read_csv(\"dataset1.csv\")\n",
    "df2 = pd.read_csv(\"dataset2.csv\")\n"
   ]
  },
  {
   "cell_type": "code",
   "execution_count": 18,
   "metadata": {},
   "outputs": [
    {
     "name": "stdout",
     "output_type": "stream",
     "text": [
      "=== Dataset 1 Info ===\n",
      "<class 'pandas.core.frame.DataFrame'>\n",
      "RangeIndex: 917131 entries, 0 to 917130\n",
      "Data columns (total 5 columns):\n",
      " #   Column             Non-Null Count   Dtype  \n",
      "---  ------             --------------   -----  \n",
      " 0   Name               917131 non-null  object \n",
      " 1   Short description  866104 non-null  object \n",
      " 2   Gender             816763 non-null  object \n",
      " 3   Occupation         761744 non-null  object \n",
      " 4   Age of death       917130 non-null  float64\n",
      "dtypes: float64(1), object(4)\n",
      "memory usage: 35.0+ MB\n",
      "None\n",
      "              Name    Short description  Gender Occupation   Age of death\n",
      "count       917131               866104  816763     761744  917130.000000\n",
      "unique      858685               395713       2       7734            NaN\n",
      "top     John Smith  American politician    Male     Artist            NaN\n",
      "freq            69                10119  735622     210905            NaN\n",
      "mean           NaN                  NaN     NaN        NaN      69.268108\n",
      "std            NaN                  NaN     NaN        NaN      16.629778\n",
      "min            NaN                  NaN     NaN        NaN       0.000000\n",
      "25%            NaN                  NaN     NaN        NaN      60.000000\n",
      "50%            NaN                  NaN     NaN        NaN      72.000000\n",
      "75%            NaN                  NaN     NaN        NaN      81.000000\n",
      "max            NaN                  NaN     NaN        NaN     169.000000\n",
      "\n",
      "=== Dataset 2 Info ===\n",
      "<class 'pandas.core.frame.DataFrame'>\n",
      "RangeIndex: 855989 entries, 0 to 855988\n",
      "Data columns (total 6 columns):\n",
      " #   Column           Non-Null Count   Dtype  \n",
      "---  ------           --------------   -----  \n",
      " 0   Name             855989 non-null  object \n",
      " 1   Gender           762276 non-null  float64\n",
      " 2   Country          621522 non-null  object \n",
      " 3   Birth year       855989 non-null  int64  \n",
      " 4   Death year       855989 non-null  float64\n",
      " 5   Manner of death  37566 non-null   object \n",
      "dtypes: float64(2), int64(1), object(3)\n",
      "memory usage: 39.2+ MB\n",
      "None\n",
      "              Name         Gender                   Country     Birth year  \\\n",
      "count       855989  762276.000000                    621522  855989.000000   \n",
      "unique      803759            NaN                       971            NaN   \n",
      "top     John Smith            NaN  United States of America            NaN   \n",
      "freq            68            NaN                    109999            NaN   \n",
      "mean           NaN       1.098805                       NaN    1845.012382   \n",
      "std            NaN       0.298401                       NaN     147.986234   \n",
      "min            NaN       1.000000                       NaN   -2284.000000   \n",
      "25%            NaN       1.000000                       NaN    1828.000000   \n",
      "50%            NaN       1.000000                       NaN    1887.000000   \n",
      "75%            NaN       1.000000                       NaN    1918.000000   \n",
      "max            NaN       2.000000                       NaN    2016.000000   \n",
      "\n",
      "           Death year Manner of death  \n",
      "count   855989.000000           37566  \n",
      "unique            NaN             142  \n",
      "top               NaN  natural causes  \n",
      "freq              NaN           23493  \n",
      "mean      1914.292775             NaN  \n",
      "std        151.733742             NaN  \n",
      "min      -2200.000000             NaN  \n",
      "25%       1895.000000             NaN  \n",
      "50%       1955.000000             NaN  \n",
      "75%       1994.000000             NaN  \n",
      "max       2021.000000             NaN  \n"
     ]
    }
   ],
   "source": [
    "# Display basic information about each dataset.\n",
    "print(\"=== Dataset 1 Info ===\") # Display basic information about each dataset.\n",
    "print(df1.info()) # Display basic information about each dataset.\n",
    "print(df1.describe(include='all'))\n",
    "print(\"\\n=== Dataset 2 Info ===\") # Display basic information about each dataset.\n",
    "print(df2.info()) # Display basic information about each dataset.\n",
    "print(df2.describe(include='all')) # Display basic information about each dataset.\n"
   ]
  },
  {
   "cell_type": "code",
   "execution_count": 19,
   "metadata": {},
   "outputs": [
    {
     "name": "stdout",
     "output_type": "stream",
     "text": [
      "\n",
      "Dataset 1 Sample:\n",
      "                               Name                   Short description  \\\n",
      "0                    Vilém Pospíšil                    Baptist minister   \n",
      "1                   Elise Schmieden             schrijfster (1841-1896)   \n",
      "2                 Jerónimo de Rueda             Spanish baroque painter   \n",
      "3  August Karl Wilhelm Weissenbruch                       German author   \n",
      "4                     Gösta Göthlin  schwedischer Arzt und Bakteriologe   \n",
      "\n",
      "  Gender Occupation  Age of death  \n",
      "0   Male     Pastor          73.0  \n",
      "1    NaN     Artist          55.0  \n",
      "2   Male     Artist          80.0  \n",
      "3   Male     Artist          82.0  \n",
      "4   Male  Physician          89.0  \n",
      "\n",
      "Dataset 2 Sample:\n",
      "                 Name  Gender         Country  Birth year  Death year  \\\n",
      "0           Yin Buhai     NaN    Chen dynasty         505       589.0   \n",
      "1  Johann von Wickede     1.0             NaN        1664      1732.0   \n",
      "2     Frank McCashney     1.0       Australia        1890      1951.0   \n",
      "3        Hugo Berwald     1.0         Germany        1863      1937.0   \n",
      "4         Karel Fiala     1.0  Czechoslovakia        1871      1931.0   \n",
      "\n",
      "  Manner of death  \n",
      "0             NaN  \n",
      "1             NaN  \n",
      "2             NaN  \n",
      "3             NaN  \n",
      "4             NaN  \n"
     ]
    }
   ],
   "source": [
    "# Optionally, display the first few rows\n",
    "print(\"\\nDataset 1 Sample:\") # Optionally, display the first few rows\n",
    "print(df1.head()) # Optionally, display the first few rows\n",
    "print(\"\\nDataset 2 Sample:\") # Optionally, display the first few rows\n",
    "print(df2.head()) # Optionally, display the first few rows\n"
   ]
  },
  {
   "cell_type": "code",
   "execution_count": 20,
   "metadata": {},
   "outputs": [
    {
     "name": "stderr",
     "output_type": "stream",
     "text": [
      "/var/folders/7g/l7_y9q_j4md0vzbz99k5dpg40000gn/T/ipykernel_22667/1025669322.py:4: FutureWarning: \n",
      "\n",
      "Passing `palette` without assigning `hue` is deprecated and will be removed in v0.14.0. Assign the `x` variable to `hue` and set `legend=False` for the same effect.\n",
      "\n",
      "  sns.countplot(x='Gender', data=df1, palette=\"pastel\")\n",
      "/var/folders/7g/l7_y9q_j4md0vzbz99k5dpg40000gn/T/ipykernel_22667/1025669322.py:7: FutureWarning: \n",
      "\n",
      "Passing `palette` without assigning `hue` is deprecated and will be removed in v0.14.0. Assign the `x` variable to `hue` and set `legend=False` for the same effect.\n",
      "\n",
      "  sns.countplot(x='Gender', data=df2, palette=\"pastel\")\n"
     ]
    },
    {
     "data": {
      "image/png": "[encoded data removed]",
      "text/plain": [
       "<Figure size 1200x500 with 2 Axes>"
      ]
     },
     "metadata": {},
     "output_type": "display_data"
    }
   ],
   "source": [
    "# Plot gender distributions (if available)\n",
    "plt.figure(figsize=(12, 5))\n",
    "plt.subplot(1, 2, 1)\n",
    "sns.countplot(x='Gender', data=df1, palette=\"pastel\")\n",
    "plt.title(\"Dataset 1 Gender Distribution\")\n",
    "plt.subplot(1, 2, 2)\n",
    "sns.countplot(x='Gender', data=df2, palette=\"pastel\")\n",
    "plt.title(\"Dataset 2 Gender Distribution\")\n",
    "plt.tight_layout()\n",
    "plt.show()"
   ]
  },
  {
   "cell_type": "code",
   "execution_count": 21,
   "metadata": {},
   "outputs": [],
   "source": [
    "# Part 2: Data Preprocessing\n",
    "\n",
    "def clean_text(x): \n",
    "    \"\"\"Strip whitespace and convert text to lowercase; return empty string if missing.\"\"\"\n",
    "    if pd.isnull(x): # Check if the value is missing\n",
    "        return \"\"\n",
    "    return str(x).strip().lower() # Convert to lowercase and strip whitespace\n",
    "\n",
    "# For dataset1, clean the \"Name\" field.\n",
    "df1['Name_clean'] = df1['Name'].apply(clean_text) \n",
    "\n",
    "# For dataset2, assume the field with names is called \"Full_name\".\n",
    "# (If your file uses a different column name, adjust accordingly.)\n",
    "df2['Name_clean'] = df2['Name'].apply(clean_text)\n",
    "\n",
    "# For dataset2, convert gender codes to text (assuming 1.0 = 'Male' and 2.0 = 'Female')\n",
    "df2['Gender'] = df2['Gender'].replace({1.0: 'Male', 2.0: 'Female'})\n",
    "df2['Gender'] = df2['Gender'].fillna('Unknown')\n",
    "\n",
    "# Compute \"Age_at_death\" for dataset2 if both Birth year and Death year are available.\n",
    "df2['Age_at_death'] = df2['Death year'] - df2['Birth year']\n",
    "\n",
    "# Fill missing values for string fields in dataset2 (e.g., Country, Manner of death)\n",
    "df2['Country'] = df2['Country'].fillna('Unknown')\n",
    "df2['Manner of death'] = df2['Manner of death'].fillna('Not Specified')\n"
   ]
  },
  {
   "cell_type": "code",
   "execution_count": 22,
   "metadata": {},
   "outputs": [
    {
     "ename": "KeyboardInterrupt",
     "evalue": "",
     "output_type": "error",
     "traceback": [
      "\u001b[0;31m---------------------------------------------------------------------------\u001b[0m",
      "\u001b[0;31mKeyboardInterrupt\u001b[0m                         Traceback (most recent call last)",
      "Cell \u001b[0;32mIn[22], line 15\u001b[0m\n\u001b[1;32m     12\u001b[0m choices \u001b[38;5;241m=\u001b[39m df2[\u001b[38;5;124m'\u001b[39m\u001b[38;5;124mName_clean\u001b[39m\u001b[38;5;124m'\u001b[39m]\u001b[38;5;241m.\u001b[39mtolist()\n\u001b[1;32m     14\u001b[0m \u001b[38;5;66;03m# For each record in dataset1, find the best match in dataset2.\u001b[39;00m\n\u001b[0;32m---> 15\u001b[0m df1[\u001b[38;5;124m'\u001b[39m\u001b[38;5;124mMatched_Name\u001b[39m\u001b[38;5;124m'\u001b[39m] \u001b[38;5;241m=\u001b[39m \u001b[43mdf1\u001b[49m\u001b[43m[\u001b[49m\u001b[38;5;124;43m'\u001b[39;49m\u001b[38;5;124;43mName_clean\u001b[39;49m\u001b[38;5;124;43m'\u001b[39;49m\u001b[43m]\u001b[49m\u001b[38;5;241;43m.\u001b[39;49m\u001b[43mapply\u001b[49m\u001b[43m(\u001b[49m\u001b[38;5;28;43;01mlambda\u001b[39;49;00m\u001b[43m \u001b[49m\u001b[43mx\u001b[49m\u001b[43m:\u001b[49m\u001b[43m \u001b[49m\u001b[43mmatch_name\u001b[49m\u001b[43m(\u001b[49m\u001b[43mx\u001b[49m\u001b[43m,\u001b[49m\u001b[43m \u001b[49m\u001b[43mchoices\u001b[49m\u001b[43m)\u001b[49m\u001b[43m)\u001b[49m\n\u001b[1;32m     17\u001b[0m \u001b[38;5;66;03m# Merge the two datasets based on the matched names.\u001b[39;00m\n\u001b[1;32m     18\u001b[0m matched_df \u001b[38;5;241m=\u001b[39m pd\u001b[38;5;241m.\u001b[39mmerge(df1, df2, left_on\u001b[38;5;241m=\u001b[39m\u001b[38;5;124m'\u001b[39m\u001b[38;5;124mMatched_Name\u001b[39m\u001b[38;5;124m'\u001b[39m, right_on\u001b[38;5;241m=\u001b[39m\u001b[38;5;124m'\u001b[39m\u001b[38;5;124mName_clean\u001b[39m\u001b[38;5;124m'\u001b[39m, how\u001b[38;5;241m=\u001b[39m\u001b[38;5;124m'\u001b[39m\u001b[38;5;124mleft\u001b[39m\u001b[38;5;124m'\u001b[39m,\n\u001b[1;32m     19\u001b[0m                       suffixes\u001b[38;5;241m=\u001b[39m(\u001b[38;5;124m'\u001b[39m\u001b[38;5;124m_d1\u001b[39m\u001b[38;5;124m'\u001b[39m, \u001b[38;5;124m'\u001b[39m\u001b[38;5;124m_d2\u001b[39m\u001b[38;5;124m'\u001b[39m))\n",
      "File \u001b[0;32m~/Library/Python/3.9/lib/python/site-packages/pandas/core/series.py:4917\u001b[0m, in \u001b[0;36mSeries.apply\u001b[0;34m(self, func, convert_dtype, args, by_row, **kwargs)\u001b[0m\n\u001b[1;32m   4789\u001b[0m \u001b[38;5;28;01mdef\u001b[39;00m \u001b[38;5;21mapply\u001b[39m(\n\u001b[1;32m   4790\u001b[0m     \u001b[38;5;28mself\u001b[39m,\n\u001b[1;32m   4791\u001b[0m     func: AggFuncType,\n\u001b[0;32m   (...)\u001b[0m\n\u001b[1;32m   4796\u001b[0m     \u001b[38;5;241m*\u001b[39m\u001b[38;5;241m*\u001b[39mkwargs,\n\u001b[1;32m   4797\u001b[0m ) \u001b[38;5;241m-\u001b[39m\u001b[38;5;241m>\u001b[39m DataFrame \u001b[38;5;241m|\u001b[39m Series:\n\u001b[1;32m   4798\u001b[0m \u001b[38;5;250m    \u001b[39m\u001b[38;5;124;03m\"\"\"\u001b[39;00m\n\u001b[1;32m   4799\u001b[0m \u001b[38;5;124;03m    Invoke function on values of Series.\u001b[39;00m\n\u001b[1;32m   4800\u001b[0m \n\u001b[0;32m   (...)\u001b[0m\n\u001b[1;32m   4915\u001b[0m \u001b[38;5;124;03m    dtype: float64\u001b[39;00m\n\u001b[1;32m   4916\u001b[0m \u001b[38;5;124;03m    \"\"\"\u001b[39;00m\n\u001b[0;32m-> 4917\u001b[0m     \u001b[38;5;28;01mreturn\u001b[39;00m \u001b[43mSeriesApply\u001b[49m\u001b[43m(\u001b[49m\n\u001b[1;32m   4918\u001b[0m \u001b[43m        \u001b[49m\u001b[38;5;28;43mself\u001b[39;49m\u001b[43m,\u001b[49m\n\u001b[1;32m   4919\u001b[0m \u001b[43m        \u001b[49m\u001b[43mfunc\u001b[49m\u001b[43m,\u001b[49m\n\u001b[1;32m   4920\u001b[0m \u001b[43m        \u001b[49m\u001b[43mconvert_dtype\u001b[49m\u001b[38;5;241;43m=\u001b[39;49m\u001b[43mconvert_dtype\u001b[49m\u001b[43m,\u001b[49m\n\u001b[1;32m   4921\u001b[0m \u001b[43m        \u001b[49m\u001b[43mby_row\u001b[49m\u001b[38;5;241;43m=\u001b[39;49m\u001b[43mby_row\u001b[49m\u001b[43m,\u001b[49m\n\u001b[1;32m   4922\u001b[0m \u001b[43m        \u001b[49m\u001b[43margs\u001b[49m\u001b[38;5;241;43m=\u001b[39;49m\u001b[43margs\u001b[49m\u001b[43m,\u001b[49m\n\u001b[1;32m   4923\u001b[0m \u001b[43m        \u001b[49m\u001b[43mkwargs\u001b[49m\u001b[38;5;241;43m=\u001b[39;49m\u001b[43mkwargs\u001b[49m\u001b[43m,\u001b[49m\n\u001b[1;32m   4924\u001b[0m \u001b[43m    \u001b[49m\u001b[43m)\u001b[49m\u001b[38;5;241;43m.\u001b[39;49m\u001b[43mapply\u001b[49m\u001b[43m(\u001b[49m\u001b[43m)\u001b[49m\n",
      "File \u001b[0;32m~/Library/Python/3.9/lib/python/site-packages/pandas/core/apply.py:1427\u001b[0m, in \u001b[0;36mSeriesApply.apply\u001b[0;34m(self)\u001b[0m\n\u001b[1;32m   1424\u001b[0m     \u001b[38;5;28;01mreturn\u001b[39;00m \u001b[38;5;28mself\u001b[39m\u001b[38;5;241m.\u001b[39mapply_compat()\n\u001b[1;32m   1426\u001b[0m \u001b[38;5;66;03m# self.func is Callable\u001b[39;00m\n\u001b[0;32m-> 1427\u001b[0m \u001b[38;5;28;01mreturn\u001b[39;00m \u001b[38;5;28;43mself\u001b[39;49m\u001b[38;5;241;43m.\u001b[39;49m\u001b[43mapply_standard\u001b[49m\u001b[43m(\u001b[49m\u001b[43m)\u001b[49m\n",
      "File \u001b[0;32m~/Library/Python/3.9/lib/python/site-packages/pandas/core/apply.py:1507\u001b[0m, in \u001b[0;36mSeriesApply.apply_standard\u001b[0;34m(self)\u001b[0m\n\u001b[1;32m   1501\u001b[0m \u001b[38;5;66;03m# row-wise access\u001b[39;00m\n\u001b[1;32m   1502\u001b[0m \u001b[38;5;66;03m# apply doesn't have a `na_action` keyword and for backward compat reasons\u001b[39;00m\n\u001b[1;32m   1503\u001b[0m \u001b[38;5;66;03m# we need to give `na_action=\"ignore\"` for categorical data.\u001b[39;00m\n\u001b[1;32m   1504\u001b[0m \u001b[38;5;66;03m# TODO: remove the `na_action=\"ignore\"` when that default has been changed in\u001b[39;00m\n\u001b[1;32m   1505\u001b[0m \u001b[38;5;66;03m#  Categorical (GH51645).\u001b[39;00m\n\u001b[1;32m   1506\u001b[0m action \u001b[38;5;241m=\u001b[39m \u001b[38;5;124m\"\u001b[39m\u001b[38;5;124mignore\u001b[39m\u001b[38;5;124m\"\u001b[39m \u001b[38;5;28;01mif\u001b[39;00m \u001b[38;5;28misinstance\u001b[39m(obj\u001b[38;5;241m.\u001b[39mdtype, CategoricalDtype) \u001b[38;5;28;01melse\u001b[39;00m \u001b[38;5;28;01mNone\u001b[39;00m\n\u001b[0;32m-> 1507\u001b[0m mapped \u001b[38;5;241m=\u001b[39m \u001b[43mobj\u001b[49m\u001b[38;5;241;43m.\u001b[39;49m\u001b[43m_map_values\u001b[49m\u001b[43m(\u001b[49m\n\u001b[1;32m   1508\u001b[0m \u001b[43m    \u001b[49m\u001b[43mmapper\u001b[49m\u001b[38;5;241;43m=\u001b[39;49m\u001b[43mcurried\u001b[49m\u001b[43m,\u001b[49m\u001b[43m \u001b[49m\u001b[43mna_action\u001b[49m\u001b[38;5;241;43m=\u001b[39;49m\u001b[43maction\u001b[49m\u001b[43m,\u001b[49m\u001b[43m \u001b[49m\u001b[43mconvert\u001b[49m\u001b[38;5;241;43m=\u001b[39;49m\u001b[38;5;28;43mself\u001b[39;49m\u001b[38;5;241;43m.\u001b[39;49m\u001b[43mconvert_dtype\u001b[49m\n\u001b[1;32m   1509\u001b[0m \u001b[43m\u001b[49m\u001b[43m)\u001b[49m\n\u001b[1;32m   1511\u001b[0m \u001b[38;5;28;01mif\u001b[39;00m \u001b[38;5;28mlen\u001b[39m(mapped) \u001b[38;5;129;01mand\u001b[39;00m \u001b[38;5;28misinstance\u001b[39m(mapped[\u001b[38;5;241m0\u001b[39m], ABCSeries):\n\u001b[1;32m   1512\u001b[0m     \u001b[38;5;66;03m# GH#43986 Need to do list(mapped) in order to get treated as nested\u001b[39;00m\n\u001b[1;32m   1513\u001b[0m     \u001b[38;5;66;03m#  See also GH#25959 regarding EA support\u001b[39;00m\n\u001b[1;32m   1514\u001b[0m     \u001b[38;5;28;01mreturn\u001b[39;00m obj\u001b[38;5;241m.\u001b[39m_constructor_expanddim(\u001b[38;5;28mlist\u001b[39m(mapped), index\u001b[38;5;241m=\u001b[39mobj\u001b[38;5;241m.\u001b[39mindex)\n",
      "File \u001b[0;32m~/Library/Python/3.9/lib/python/site-packages/pandas/core/base.py:921\u001b[0m, in \u001b[0;36mIndexOpsMixin._map_values\u001b[0;34m(self, mapper, na_action, convert)\u001b[0m\n\u001b[1;32m    918\u001b[0m \u001b[38;5;28;01mif\u001b[39;00m \u001b[38;5;28misinstance\u001b[39m(arr, ExtensionArray):\n\u001b[1;32m    919\u001b[0m     \u001b[38;5;28;01mreturn\u001b[39;00m arr\u001b[38;5;241m.\u001b[39mmap(mapper, na_action\u001b[38;5;241m=\u001b[39mna_action)\n\u001b[0;32m--> 921\u001b[0m \u001b[38;5;28;01mreturn\u001b[39;00m \u001b[43malgorithms\u001b[49m\u001b[38;5;241;43m.\u001b[39;49m\u001b[43mmap_array\u001b[49m\u001b[43m(\u001b[49m\u001b[43marr\u001b[49m\u001b[43m,\u001b[49m\u001b[43m \u001b[49m\u001b[43mmapper\u001b[49m\u001b[43m,\u001b[49m\u001b[43m \u001b[49m\u001b[43mna_action\u001b[49m\u001b[38;5;241;43m=\u001b[39;49m\u001b[43mna_action\u001b[49m\u001b[43m,\u001b[49m\u001b[43m \u001b[49m\u001b[43mconvert\u001b[49m\u001b[38;5;241;43m=\u001b[39;49m\u001b[43mconvert\u001b[49m\u001b[43m)\u001b[49m\n",
      "File \u001b[0;32m~/Library/Python/3.9/lib/python/site-packages/pandas/core/algorithms.py:1743\u001b[0m, in \u001b[0;36mmap_array\u001b[0;34m(arr, mapper, na_action, convert)\u001b[0m\n\u001b[1;32m   1741\u001b[0m values \u001b[38;5;241m=\u001b[39m arr\u001b[38;5;241m.\u001b[39mastype(\u001b[38;5;28mobject\u001b[39m, copy\u001b[38;5;241m=\u001b[39m\u001b[38;5;28;01mFalse\u001b[39;00m)\n\u001b[1;32m   1742\u001b[0m \u001b[38;5;28;01mif\u001b[39;00m na_action \u001b[38;5;129;01mis\u001b[39;00m \u001b[38;5;28;01mNone\u001b[39;00m:\n\u001b[0;32m-> 1743\u001b[0m     \u001b[38;5;28;01mreturn\u001b[39;00m \u001b[43mlib\u001b[49m\u001b[38;5;241;43m.\u001b[39;49m\u001b[43mmap_infer\u001b[49m\u001b[43m(\u001b[49m\u001b[43mvalues\u001b[49m\u001b[43m,\u001b[49m\u001b[43m \u001b[49m\u001b[43mmapper\u001b[49m\u001b[43m,\u001b[49m\u001b[43m \u001b[49m\u001b[43mconvert\u001b[49m\u001b[38;5;241;43m=\u001b[39;49m\u001b[43mconvert\u001b[49m\u001b[43m)\u001b[49m\n\u001b[1;32m   1744\u001b[0m \u001b[38;5;28;01melse\u001b[39;00m:\n\u001b[1;32m   1745\u001b[0m     \u001b[38;5;28;01mreturn\u001b[39;00m lib\u001b[38;5;241m.\u001b[39mmap_infer_mask(\n\u001b[1;32m   1746\u001b[0m         values, mapper, mask\u001b[38;5;241m=\u001b[39misna(values)\u001b[38;5;241m.\u001b[39mview(np\u001b[38;5;241m.\u001b[39muint8), convert\u001b[38;5;241m=\u001b[39mconvert\n\u001b[1;32m   1747\u001b[0m     )\n",
      "File \u001b[0;32mlib.pyx:2972\u001b[0m, in \u001b[0;36mpandas._libs.lib.map_infer\u001b[0;34m()\u001b[0m\n",
      "Cell \u001b[0;32mIn[22], line 15\u001b[0m, in \u001b[0;36m<lambda>\u001b[0;34m(x)\u001b[0m\n\u001b[1;32m     12\u001b[0m choices \u001b[38;5;241m=\u001b[39m df2[\u001b[38;5;124m'\u001b[39m\u001b[38;5;124mName_clean\u001b[39m\u001b[38;5;124m'\u001b[39m]\u001b[38;5;241m.\u001b[39mtolist()\n\u001b[1;32m     14\u001b[0m \u001b[38;5;66;03m# For each record in dataset1, find the best match in dataset2.\u001b[39;00m\n\u001b[0;32m---> 15\u001b[0m df1[\u001b[38;5;124m'\u001b[39m\u001b[38;5;124mMatched_Name\u001b[39m\u001b[38;5;124m'\u001b[39m] \u001b[38;5;241m=\u001b[39m df1[\u001b[38;5;124m'\u001b[39m\u001b[38;5;124mName_clean\u001b[39m\u001b[38;5;124m'\u001b[39m]\u001b[38;5;241m.\u001b[39mapply(\u001b[38;5;28;01mlambda\u001b[39;00m x: \u001b[43mmatch_name\u001b[49m\u001b[43m(\u001b[49m\u001b[43mx\u001b[49m\u001b[43m,\u001b[49m\u001b[43m \u001b[49m\u001b[43mchoices\u001b[49m\u001b[43m)\u001b[49m)\n\u001b[1;32m     17\u001b[0m \u001b[38;5;66;03m# Merge the two datasets based on the matched names.\u001b[39;00m\n\u001b[1;32m     18\u001b[0m matched_df \u001b[38;5;241m=\u001b[39m pd\u001b[38;5;241m.\u001b[39mmerge(df1, df2, left_on\u001b[38;5;241m=\u001b[39m\u001b[38;5;124m'\u001b[39m\u001b[38;5;124mMatched_Name\u001b[39m\u001b[38;5;124m'\u001b[39m, right_on\u001b[38;5;241m=\u001b[39m\u001b[38;5;124m'\u001b[39m\u001b[38;5;124mName_clean\u001b[39m\u001b[38;5;124m'\u001b[39m, how\u001b[38;5;241m=\u001b[39m\u001b[38;5;124m'\u001b[39m\u001b[38;5;124mleft\u001b[39m\u001b[38;5;124m'\u001b[39m,\n\u001b[1;32m     19\u001b[0m                       suffixes\u001b[38;5;241m=\u001b[39m(\u001b[38;5;124m'\u001b[39m\u001b[38;5;124m_d1\u001b[39m\u001b[38;5;124m'\u001b[39m, \u001b[38;5;124m'\u001b[39m\u001b[38;5;124m_d2\u001b[39m\u001b[38;5;124m'\u001b[39m))\n",
      "Cell \u001b[0;32mIn[22], line 8\u001b[0m, in \u001b[0;36mmatch_name\u001b[0;34m(name, choices, threshold)\u001b[0m\n\u001b[1;32m      3\u001b[0m \u001b[38;5;28;01mdef\u001b[39;00m \u001b[38;5;21mmatch_name\u001b[39m(name, choices, threshold\u001b[38;5;241m=\u001b[39m\u001b[38;5;241m85\u001b[39m):\n\u001b[1;32m      4\u001b[0m \u001b[38;5;250m    \u001b[39m\u001b[38;5;124;03m\"\"\"\u001b[39;00m\n\u001b[1;32m      5\u001b[0m \u001b[38;5;124;03m    Fuzzy match a name against a list of choices.\u001b[39;00m\n\u001b[1;32m      6\u001b[0m \u001b[38;5;124;03m    Returns the best match if its score exceeds the threshold; otherwise returns NaN.\u001b[39;00m\n\u001b[1;32m      7\u001b[0m \u001b[38;5;124;03m    \"\"\"\u001b[39;00m\n\u001b[0;32m----> 8\u001b[0m     match, score, _ \u001b[38;5;241m=\u001b[39m \u001b[43mprocess\u001b[49m\u001b[38;5;241;43m.\u001b[39;49m\u001b[43mextractOne\u001b[49m\u001b[43m(\u001b[49m\u001b[43mname\u001b[49m\u001b[43m,\u001b[49m\u001b[43m \u001b[49m\u001b[43mchoices\u001b[49m\u001b[43m,\u001b[49m\u001b[43m \u001b[49m\u001b[43mscorer\u001b[49m\u001b[38;5;241;43m=\u001b[39;49m\u001b[43mfuzz\u001b[49m\u001b[38;5;241;43m.\u001b[39;49m\u001b[43mtoken_sort_ratio\u001b[49m\u001b[43m)\u001b[49m\n\u001b[1;32m      9\u001b[0m     \u001b[38;5;28;01mreturn\u001b[39;00m match \u001b[38;5;28;01mif\u001b[39;00m score \u001b[38;5;241m>\u001b[39m\u001b[38;5;241m=\u001b[39m threshold \u001b[38;5;28;01melse\u001b[39;00m np\u001b[38;5;241m.\u001b[39mnan\n",
      "File \u001b[0;32msrc/rapidfuzz/process_cpp_impl.pyx:845\u001b[0m, in \u001b[0;36mrapidfuzz.process_cpp_impl.extractOne\u001b[0;34m()\u001b[0m\n",
      "File \u001b[0;32msrc/rapidfuzz/process_cpp_impl.pyx:715\u001b[0m, in \u001b[0;36mrapidfuzz.process_cpp_impl.extractOne_list\u001b[0;34m()\u001b[0m\n",
      "File \u001b[0;32msrc/rapidfuzz/process_cpp_impl.pyx:532\u001b[0m, in \u001b[0;36mrapidfuzz.process_cpp_impl.extractOne_list_f64\u001b[0;34m()\u001b[0m\n",
      "\u001b[0;31mKeyboardInterrupt\u001b[0m: "
     ]
    }
   ],
   "source": [
    "# Part 3: Record Matching using Fuzzy Matching\n",
    "\n",
    "def match_name(name, choices, threshold=85):\n",
    "    \"\"\"\n",
    "    Fuzzy match a name against a list of choices.\n",
    "    Returns the best match if its score exceeds the threshold; otherwise returns NaN.\n",
    "    \"\"\"\n",
    "    match, score, _ = process.extractOne(name, choices, scorer=fuzz.token_sort_ratio)\n",
    "    return match if score >= threshold else np.nan\n",
    "\n",
    "# Build a list of cleaned names from dataset2.\n",
    "choices = df2['Name_clean'].tolist()\n",
    "\n",
    "# For each record in dataset1, find the best match in dataset2.\n",
    "df1['Matched_Name'] = df1['Name_clean'].apply(lambda x: match_name(x, choices))\n",
    "\n",
    "# Merge the two datasets based on the matched names.\n",
    "matched_df = pd.merge(df1, df2, left_on='Matched_Name', right_on='Name_clean', how='left',\n",
    "                      suffixes=('_d1', '_d2'))\n"
   ]
  },
  {
   "cell_type": "code",
   "execution_count": 14,
   "metadata": {},
   "outputs": [
    {
     "name": "stdout",
     "output_type": "stream",
     "text": [
      "\n",
      "Dataset 1 Gender Distribution:\n",
      " Gender\n",
      "Male      735622\n",
      "NaN       100368\n",
      "Female     81141\n",
      "Name: count, dtype: int64\n",
      "\n",
      "Dataset 2 Gender Distribution:\n",
      " Gender\n",
      "Male       686959\n",
      "Unknown     93713\n",
      "Female      75317\n",
      "Name: count, dtype: int64\n",
      "\n",
      "Combined Gender Distribution:\n",
      " Gender\n",
      "Male       1422581\n",
      "Female      156458\n",
      "Unknown      93713\n",
      "Name: count, dtype: int64\n",
      "\n",
      "Country Representation in Dataset 2:\n",
      " Country\n",
      "Unknown                     234467\n",
      "United States of America    109999\n",
      "Germany                      69024\n",
      "France                       56210\n",
      "United Kingdom               37345\n",
      "                             ...  \n",
      "Frances                          1\n",
      "American Samoa                   1\n",
      "Slovaks                          1\n",
      "Taifa of Zaragoza                1\n",
      "Brandenburg-Prussia              1\n",
      "Name: count, Length: 972, dtype: int64\n",
      "\n",
      "Occupation Trends in Dataset 1:\n",
      " Occupation\n",
      "Artist                                 210905\n",
      "NaN                                    155387\n",
      "Politician                             146448\n",
      "Athlete                                 83047\n",
      "Researcher                              68068\n",
      "                                        ...  \n",
      "Sailor; geographer                          1\n",
      "Television presenter; scenographer          1\n",
      "Restaurateur; suffragist                    1\n",
      "Chocolatier; type foundry                   1\n",
      "Contributing editor; trade unionist         1\n",
      "Name: count, Length: 7735, dtype: int64\n",
      "\n",
      "Average Age at Death in Dataset 1: 69.27\n",
      "Average Age at Death in Dataset 2: 69.28\n",
      "\n",
      "Proportion of Missing Country in Dataset 2: 0.00%\n",
      "Proportion of Missing Manner of death in Dataset 2: 0.00%\n"
     ]
    }
   ],
   "source": [
    "# Part 4: Analysis and Insights\n",
    "\n",
    "# 1. Gender Distribution Analysis\n",
    "gender_d1 = df1['Gender'].value_counts(dropna=False)\n",
    "gender_d2 = df2['Gender'].value_counts(dropna=False)\n",
    "print(\"\\nDataset 1 Gender Distribution:\\n\", gender_d1)\n",
    "print(\"\\nDataset 2 Gender Distribution:\\n\", gender_d2)\n",
    "\n",
    "combined_gender = pd.concat([df1[['Gender']], df2[['Gender']]])\n",
    "print(\"\\nCombined Gender Distribution:\\n\", combined_gender['Gender'].value_counts())\n",
    "\n",
    "# 2. Geographic Representation (Dataset2: Country counts)\n",
    "country_counts = df2['Country'].value_counts(dropna=False)\n",
    "print(\"\\nCountry Representation in Dataset 2:\\n\", country_counts)\n",
    "\n",
    "# 3. Occupation Trends (Dataset1: Occupation counts)\n",
    "occupation_counts = df1['Occupation'].value_counts(dropna=False)\n",
    "print(\"\\nOccupation Trends in Dataset 1:\\n\", occupation_counts)\n",
    "\n",
    "# 4. Historical Patterns: Average Age at Death\n",
    "avg_age_d1 = df1['Age of death'].mean()\n",
    "avg_age_d2 = df2['Age_at_death'].mean()\n",
    "print(\"\\nAverage Age at Death in Dataset 1: {:.2f}\".format(avg_age_d1))\n",
    "print(\"Average Age at Death in Dataset 2: {:.2f}\".format(avg_age_d2))\n",
    "\n",
    "# 5. Analysis of Missing Data (Example for Dataset2)\n",
    "missing_country_prop = df2['Country'].isnull().mean()\n",
    "missing_manner_prop = df2['Manner of death'].isnull().mean()\n",
    "print(\"\\nProportion of Missing Country in Dataset 2: {:.2%}\".format(missing_country_prop))\n",
    "print(\"Proportion of Missing Manner of death in Dataset 2: {:.2%}\".format(missing_manner_prop))\n"
   ]
  },
  {
   "cell_type": "code",
   "execution_count": 15,
   "metadata": {},
   "outputs": [
    {
     "ename": "NameError",
     "evalue": "name 'matched_df' is not defined",
     "output_type": "error",
     "traceback": [
      "\u001b[0;31m---------------------------------------------------------------------------\u001b[0m",
      "\u001b[0;31mNameError\u001b[0m                                 Traceback (most recent call last)",
      "Cell \u001b[0;32mIn[15], line 6\u001b[0m\n\u001b[1;32m      4\u001b[0m df1\u001b[38;5;241m.\u001b[39mto_csv(\u001b[38;5;124m\"\u001b[39m\u001b[38;5;124mcleaned_dataset1.csv\u001b[39m\u001b[38;5;124m\"\u001b[39m, index\u001b[38;5;241m=\u001b[39m\u001b[38;5;28;01mFalse\u001b[39;00m)\n\u001b[1;32m      5\u001b[0m df2\u001b[38;5;241m.\u001b[39mto_csv(\u001b[38;5;124m\"\u001b[39m\u001b[38;5;124mcleaned_dataset2.csv\u001b[39m\u001b[38;5;124m\"\u001b[39m, index\u001b[38;5;241m=\u001b[39m\u001b[38;5;28;01mFalse\u001b[39;00m)\n\u001b[0;32m----> 6\u001b[0m \u001b[43mmatched_df\u001b[49m\u001b[38;5;241m.\u001b[39mto_csv(\u001b[38;5;124m\"\u001b[39m\u001b[38;5;124mmatched_records.csv\u001b[39m\u001b[38;5;124m\"\u001b[39m, index\u001b[38;5;241m=\u001b[39m\u001b[38;5;28;01mFalse\u001b[39;00m)\n\u001b[1;32m      8\u001b[0m \u001b[38;5;66;03m# Optionally, display a sample of matched records\u001b[39;00m\n\u001b[1;32m      9\u001b[0m \u001b[38;5;28mprint\u001b[39m(\u001b[38;5;124m\"\u001b[39m\u001b[38;5;130;01m\\n\u001b[39;00m\u001b[38;5;124mSample of Matched Records:\u001b[39m\u001b[38;5;124m\"\u001b[39m) \n",
      "\u001b[0;31mNameError\u001b[0m: name 'matched_df' is not defined"
     ]
    }
   ],
   "source": [
    "# Part 5: Exporting Cleaned and Matched Data\n",
    "\n",
    "# Save the cleaned datasets and matched records as CSV files.\n",
    "df1.to_csv(\"cleaned_dataset1.csv\", index=False)\n",
    "df2.to_csv(\"cleaned_dataset2.csv\", index=False)\n",
    "matched_df.to_csv(\"matched_records.csv\", index=False)\n",
    "\n",
    "# Optionally, display a sample of matched records\n",
    "print(\"\\nSample of Matched Records:\") \n",
    "print(matched_df[['Name_d1', 'Matched_Name', 'Full_name', 'Gender_d1', 'Gender_d2']].head())\n",
    "print(\"\\nData processing complete. Cleaned datasets and matched records have been saved as CSV files.\") \n"
   ]
  }
 ],
 "metadata": {
  "kernelspec": {
   "display_name": "Python 3",
   "language": "python",
   "name": "python3"
  },
  "language_info": {
   "codemirror_mode": {
    "name": "ipython",
    "version": 3
   },
   "file_extension": ".py",
   "mimetype": "text/x-python",
   "name": "python",
   "nbconvert_exporter": "python",
   "pygments_lexer": "ipython3",
   "version": "3.9.6"
  }
 },
 "nbformat": 4,
 "nbformat_minor": 2
}
